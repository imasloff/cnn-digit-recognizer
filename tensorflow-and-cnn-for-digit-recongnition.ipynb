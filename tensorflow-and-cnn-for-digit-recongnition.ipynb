{
 "cells": [
  {
   "cell_type": "code",
   "execution_count": 1,
   "id": "50abe01d",
   "metadata": {
    "_cell_guid": "b1076dfc-b9ad-4769-8c92-a6c4dae69d19",
    "_uuid": "8f2839f25d086af736a60e9eeb907d3b93b6e0e5",
    "execution": {
     "iopub.execute_input": "2023-11-20T21:04:39.268505Z",
     "iopub.status.busy": "2023-11-20T21:04:39.268055Z",
     "iopub.status.idle": "2023-11-20T21:04:52.059441Z",
     "shell.execute_reply": "2023-11-20T21:04:52.058182Z"
    },
    "papermill": {
     "duration": 12.808861,
     "end_time": "2023-11-20T21:04:52.062004",
     "exception": false,
     "start_time": "2023-11-20T21:04:39.253143",
     "status": "completed"
    },
    "tags": []
   },
   "outputs": [
    {
     "name": "stderr",
     "output_type": "stream",
     "text": [
      "/opt/conda/lib/python3.10/site-packages/scipy/__init__.py:146: UserWarning: A NumPy version >=1.16.5 and <1.23.0 is required for this version of SciPy (detected version 1.23.5\n",
      "  warnings.warn(f\"A NumPy version >={np_minversion} and <{np_maxversion}\"\n",
      "/opt/conda/lib/python3.10/site-packages/tensorflow_io/python/ops/__init__.py:98: UserWarning: unable to load libtensorflow_io_plugins.so: unable to open file: libtensorflow_io_plugins.so, from paths: ['/opt/conda/lib/python3.10/site-packages/tensorflow_io/python/ops/libtensorflow_io_plugins.so']\n",
      "caused by: ['/opt/conda/lib/python3.10/site-packages/tensorflow_io/python/ops/libtensorflow_io_plugins.so: undefined symbol: _ZN3tsl6StatusC1EN10tensorflow5error4CodeESt17basic_string_viewIcSt11char_traitsIcEENS_14SourceLocationE']\n",
      "  warnings.warn(f\"unable to load libtensorflow_io_plugins.so: {e}\")\n",
      "/opt/conda/lib/python3.10/site-packages/tensorflow_io/python/ops/__init__.py:104: UserWarning: file system plugins are not loaded: unable to open file: libtensorflow_io.so, from paths: ['/opt/conda/lib/python3.10/site-packages/tensorflow_io/python/ops/libtensorflow_io.so']\n",
      "caused by: ['/opt/conda/lib/python3.10/site-packages/tensorflow_io/python/ops/libtensorflow_io.so: undefined symbol: _ZTVN10tensorflow13GcsFileSystemE']\n",
      "  warnings.warn(f\"file system plugins are not loaded: {e}\")\n"
     ]
    },
    {
     "name": "stdout",
     "output_type": "stream",
     "text": [
      "/kaggle/input/digit-recognizer/sample_submission.csv\n",
      "/kaggle/input/digit-recognizer/train.csv\n",
      "/kaggle/input/digit-recognizer/test.csv\n"
     ]
    }
   ],
   "source": [
    "# This Python 3 environment comes with many helpful analytics libraries installed\n",
    "# It is defined by the kaggle/python Docker image: https://github.com/kaggle/docker-python\n",
    "# For example, here's several helpful packages to load\n",
    "\n",
    "import numpy as np # linear algebra\n",
    "import pandas as pd # data processing, CSV file I/O (e.g. pd.read_csv)\n",
    "import tensorflow as tf\n",
    "import matplotlib.pyplot as plt\n",
    "import seaborn as sns\n",
    "%matplotlib inline\n",
    "\n",
    "from sklearn.model_selection import train_test_split\n",
    "from sklearn.metrics import confusion_matrix\n",
    "import itertools\n",
    "\n",
    "from keras.utils.np_utils import to_categorical\n",
    "from keras.models import Sequential\n",
    "from keras.layers import Dense, Dropout, Flatten, Conv2D, MaxPool2D\n",
    "from keras.optimizers import RMSprop, Adam\n",
    "from keras.losses import CategoricalCrossentropy\n",
    "from keras.preprocessing.image import ImageDataGenerator\n",
    "from keras.callbacks import ReduceLROnPlateau\n",
    "\n",
    "import os\n",
    "for dirname, _, filenames in os.walk('/kaggle/input'):\n",
    "    for filename in filenames:\n",
    "        print(os.path.join(dirname, filename))\n",
    "\n",
    "# You can write up to 20GB to the current directory (/kaggle/working/) that gets preserved as output when you create a version using \"Save & Run All\" \n",
    "# You can also write temporary files to /kaggle/temp/, but they won't be saved outside of the current session"
   ]
  },
  {
   "cell_type": "code",
   "execution_count": 2,
   "id": "d6d98752",
   "metadata": {
    "execution": {
     "iopub.execute_input": "2023-11-20T21:04:52.085556Z",
     "iopub.status.busy": "2023-11-20T21:04:52.083160Z",
     "iopub.status.idle": "2023-11-20T21:04:52.092913Z",
     "shell.execute_reply": "2023-11-20T21:04:52.091208Z"
    },
    "papermill": {
     "duration": 0.024046,
     "end_time": "2023-11-20T21:04:52.095923",
     "exception": false,
     "start_time": "2023-11-20T21:04:52.071877",
     "status": "completed"
    },
    "tags": []
   },
   "outputs": [],
   "source": [
    "sns.set(style='white', context='notebook', palette='deep')"
   ]
  },
  {
   "cell_type": "code",
   "execution_count": 3,
   "id": "db1cfb81",
   "metadata": {
    "execution": {
     "iopub.execute_input": "2023-11-20T21:04:52.117956Z",
     "iopub.status.busy": "2023-11-20T21:04:52.117450Z",
     "iopub.status.idle": "2023-11-20T21:04:59.966207Z",
     "shell.execute_reply": "2023-11-20T21:04:59.964788Z"
    },
    "papermill": {
     "duration": 7.863201,
     "end_time": "2023-11-20T21:04:59.969405",
     "exception": false,
     "start_time": "2023-11-20T21:04:52.106204",
     "status": "completed"
    },
    "tags": []
   },
   "outputs": [],
   "source": [
    "train_data = pd.read_csv('/kaggle/input/digit-recognizer/train.csv')\n",
    "test_data = pd.read_csv('/kaggle/input/digit-recognizer/test.csv')"
   ]
  },
  {
   "cell_type": "code",
   "execution_count": 4,
   "id": "d1f5bc2a",
   "metadata": {
    "execution": {
     "iopub.execute_input": "2023-11-20T21:04:59.992292Z",
     "iopub.status.busy": "2023-11-20T21:04:59.991240Z",
     "iopub.status.idle": "2023-11-20T21:05:00.002090Z",
     "shell.execute_reply": "2023-11-20T21:04:59.999672Z"
    },
    "papermill": {
     "duration": 0.025951,
     "end_time": "2023-11-20T21:05:00.005550",
     "exception": false,
     "start_time": "2023-11-20T21:04:59.979599",
     "status": "completed"
    },
    "tags": []
   },
   "outputs": [
    {
     "data": {
      "text/plain": [
       "(42000, 785)"
      ]
     },
     "execution_count": 4,
     "metadata": {},
     "output_type": "execute_result"
    }
   ],
   "source": [
    "train_data.shape"
   ]
  },
  {
   "cell_type": "markdown",
   "id": "7409ebf6",
   "metadata": {
    "execution": {
     "iopub.execute_input": "2023-08-14T20:18:12.138720Z",
     "iopub.status.busy": "2023-08-14T20:18:12.138363Z",
     "iopub.status.idle": "2023-08-14T20:18:12.147096Z",
     "shell.execute_reply": "2023-08-14T20:18:12.145415Z",
     "shell.execute_reply.started": "2023-08-14T20:18:12.138692Z"
    },
    "papermill": {
     "duration": 0.010471,
     "end_time": "2023-11-20T21:05:00.026503",
     "exception": false,
     "start_time": "2023-11-20T21:05:00.016032",
     "status": "completed"
    },
    "tags": []
   },
   "source": [
    "# Data check"
   ]
  },
  {
   "cell_type": "code",
   "execution_count": 5,
   "id": "605275a9",
   "metadata": {
    "execution": {
     "iopub.execute_input": "2023-11-20T21:05:00.048894Z",
     "iopub.status.busy": "2023-11-20T21:05:00.048490Z",
     "iopub.status.idle": "2023-11-20T21:05:00.670763Z",
     "shell.execute_reply": "2023-11-20T21:05:00.669384Z"
    },
    "papermill": {
     "duration": 0.637251,
     "end_time": "2023-11-20T21:05:00.674041",
     "exception": false,
     "start_time": "2023-11-20T21:05:00.036790",
     "status": "completed"
    },
    "tags": []
   },
   "outputs": [
    {
     "data": {
      "text/plain": [
       "1    4684\n",
       "7    4401\n",
       "3    4351\n",
       "9    4188\n",
       "2    4177\n",
       "6    4137\n",
       "0    4132\n",
       "4    4072\n",
       "8    4063\n",
       "5    3795\n",
       "Name: label, dtype: int64"
      ]
     },
     "execution_count": 5,
     "metadata": {},
     "output_type": "execute_result"
    },
    {
     "data": {
      "image/png": "[encoded data removed]",
      "text/plain": [
       "<Figure size 640x480 with 1 Axes>"
      ]
     },
     "metadata": {},
     "output_type": "display_data"
    }
   ],
   "source": [
    "y_train, X_train = train_data['label'], train_data.drop(columns=['label'], axis=1)\n",
    "X_test = test_data\n",
    "g = sns.countplot(x=y_train)\n",
    "y_train.value_counts()"
   ]
  },
  {
   "cell_type": "code",
   "execution_count": 6,
   "id": "005a8dfc",
   "metadata": {
    "execution": {
     "iopub.execute_input": "2023-11-20T21:05:00.697319Z",
     "iopub.status.busy": "2023-11-20T21:05:00.696847Z",
     "iopub.status.idle": "2023-11-20T21:05:00.727976Z",
     "shell.execute_reply": "2023-11-20T21:05:00.726591Z"
    },
    "papermill": {
     "duration": 0.046257,
     "end_time": "2023-11-20T21:05:00.731158",
     "exception": false,
     "start_time": "2023-11-20T21:05:00.684901",
     "status": "completed"
    },
    "tags": []
   },
   "outputs": [
    {
     "data": {
      "text/plain": [
       "count       784\n",
       "unique        1\n",
       "top       False\n",
       "freq        784\n",
       "dtype: object"
      ]
     },
     "execution_count": 6,
     "metadata": {},
     "output_type": "execute_result"
    }
   ],
   "source": [
    "X_train.isnull().any().describe()"
   ]
  },
  {
   "cell_type": "code",
   "execution_count": 7,
   "id": "7b80696e",
   "metadata": {
    "execution": {
     "iopub.execute_input": "2023-11-20T21:05:00.755526Z",
     "iopub.status.busy": "2023-11-20T21:05:00.754850Z",
     "iopub.status.idle": "2023-11-20T21:05:00.772543Z",
     "shell.execute_reply": "2023-11-20T21:05:00.770742Z"
    },
    "papermill": {
     "duration": 0.032798,
     "end_time": "2023-11-20T21:05:00.775248",
     "exception": false,
     "start_time": "2023-11-20T21:05:00.742450",
     "status": "completed"
    },
    "tags": []
   },
   "outputs": [
    {
     "data": {
      "text/plain": [
       "count       784\n",
       "unique        1\n",
       "top       False\n",
       "freq        784\n",
       "dtype: object"
      ]
     },
     "execution_count": 7,
     "metadata": {},
     "output_type": "execute_result"
    }
   ],
   "source": [
    "X_test.isnull().any().describe()"
   ]
  },
  {
   "cell_type": "markdown",
   "id": "68a5bc06",
   "metadata": {
    "papermill": {
     "duration": 0.010416,
     "end_time": "2023-11-20T21:05:00.796345",
     "exception": false,
     "start_time": "2023-11-20T21:05:00.785929",
     "status": "completed"
    },
    "tags": []
   },
   "source": [
    "# Normalization"
   ]
  },
  {
   "cell_type": "code",
   "execution_count": 8,
   "id": "80a236a9",
   "metadata": {
    "execution": {
     "iopub.execute_input": "2023-11-20T21:05:00.819588Z",
     "iopub.status.busy": "2023-11-20T21:05:00.819175Z",
     "iopub.status.idle": "2023-11-20T21:05:00.960023Z",
     "shell.execute_reply": "2023-11-20T21:05:00.958773Z"
    },
    "papermill": {
     "duration": 0.156154,
     "end_time": "2023-11-20T21:05:00.962953",
     "exception": false,
     "start_time": "2023-11-20T21:05:00.806799",
     "status": "completed"
    },
    "tags": []
   },
   "outputs": [],
   "source": [
    "X_train /= 255.0\n",
    "X_test /= 255.0"
   ]
  },
  {
   "cell_type": "markdown",
   "id": "90816f5b",
   "metadata": {
    "papermill": {
     "duration": 0.011287,
     "end_time": "2023-11-20T21:05:00.985270",
     "exception": false,
     "start_time": "2023-11-20T21:05:00.973983",
     "status": "completed"
    },
    "tags": []
   },
   "source": [
    "# Reshaping to 3D"
   ]
  },
  {
   "cell_type": "code",
   "execution_count": 9,
   "id": "0c7809c8",
   "metadata": {
    "execution": {
     "iopub.execute_input": "2023-11-20T21:05:01.009964Z",
     "iopub.status.busy": "2023-11-20T21:05:01.009580Z",
     "iopub.status.idle": "2023-11-20T21:05:01.014411Z",
     "shell.execute_reply": "2023-11-20T21:05:01.013473Z"
    },
    "papermill": {
     "duration": 0.019757,
     "end_time": "2023-11-20T21:05:01.016676",
     "exception": false,
     "start_time": "2023-11-20T21:05:00.996919",
     "status": "completed"
    },
    "tags": []
   },
   "outputs": [],
   "source": [
    "X_train = X_train.values.reshape(-1,28,28,1)\n",
    "X_test = X_test.values.reshape(-1,28,28,1)"
   ]
  },
  {
   "cell_type": "markdown",
   "id": "99c705b0",
   "metadata": {
    "papermill": {
     "duration": 0.011138,
     "end_time": "2023-11-20T21:05:01.039561",
     "exception": false,
     "start_time": "2023-11-20T21:05:01.028423",
     "status": "completed"
    },
    "tags": []
   },
   "source": [
    "Label encoding"
   ]
  },
  {
   "cell_type": "code",
   "execution_count": 10,
   "id": "62aea8ff",
   "metadata": {
    "execution": {
     "iopub.execute_input": "2023-11-20T21:05:01.064701Z",
     "iopub.status.busy": "2023-11-20T21:05:01.063957Z",
     "iopub.status.idle": "2023-11-20T21:05:01.069985Z",
     "shell.execute_reply": "2023-11-20T21:05:01.068775Z"
    },
    "papermill": {
     "duration": 0.02232,
     "end_time": "2023-11-20T21:05:01.072960",
     "exception": false,
     "start_time": "2023-11-20T21:05:01.050640",
     "status": "completed"
    },
    "tags": []
   },
   "outputs": [],
   "source": [
    "y_train = to_categorical(y_train, num_classes = 10)"
   ]
  },
  {
   "cell_type": "markdown",
   "id": "6cf4e5f3",
   "metadata": {
    "papermill": {
     "duration": 0.011031,
     "end_time": "2023-11-20T21:05:01.095613",
     "exception": false,
     "start_time": "2023-11-20T21:05:01.084582",
     "status": "completed"
    },
    "tags": []
   },
   "source": [
    "# Splitting data"
   ]
  },
  {
   "cell_type": "code",
   "execution_count": 11,
   "id": "f4ce0cf8",
   "metadata": {
    "execution": {
     "iopub.execute_input": "2023-11-20T21:05:01.120257Z",
     "iopub.status.busy": "2023-11-20T21:05:01.119314Z",
     "iopub.status.idle": "2023-11-20T21:05:01.626050Z",
     "shell.execute_reply": "2023-11-20T21:05:01.624681Z"
    },
    "papermill": {
     "duration": 0.53859,
     "end_time": "2023-11-20T21:05:01.645230",
     "exception": false,
     "start_time": "2023-11-20T21:05:01.106640",
     "status": "completed"
    },
    "tags": []
   },
   "outputs": [],
   "source": [
    "random_seed = 2\n",
    "X_train, X_val, y_train, y_val = train_test_split(X_train, y_train, test_size = 0.1, random_state=random_seed)"
   ]
  },
  {
   "cell_type": "markdown",
   "id": "ab1fa156",
   "metadata": {
    "papermill": {
     "duration": 0.01136,
     "end_time": "2023-11-20T21:05:01.667708",
     "exception": false,
     "start_time": "2023-11-20T21:05:01.656348",
     "status": "completed"
    },
    "tags": []
   },
   "source": [
    "# Some initial data visualization"
   ]
  },
  {
   "cell_type": "code",
   "execution_count": 12,
   "id": "5bcbab7d",
   "metadata": {
    "execution": {
     "iopub.execute_input": "2023-11-20T21:05:01.690881Z",
     "iopub.status.busy": "2023-11-20T21:05:01.690405Z",
     "iopub.status.idle": "2023-11-20T21:05:02.077581Z",
     "shell.execute_reply": "2023-11-20T21:05:02.076076Z"
    },
    "papermill": {
     "duration": 0.403357,
     "end_time": "2023-11-20T21:05:02.081752",
     "exception": false,
     "start_time": "2023-11-20T21:05:01.678395",
     "status": "completed"
    },
    "tags": []
   },
   "outputs": [
    {
     "data": {
      "image/png": "[encoded data removed]",
      "text/plain": [
       "<Figure size 640x480 with 1 Axes>"
      ]
     },
     "metadata": {},
     "output_type": "display_data"
    }
   ],
   "source": [
    "plt.imshow(X_train[0, :])\n",
    "plt.title('digit: '+ str(y_train[0].argmax()))\n",
    "plt.show()"
   ]
  },
  {
   "cell_type": "markdown",
   "id": "c27fa00c",
   "metadata": {
    "papermill": {
     "duration": 0.012156,
     "end_time": "2023-11-20T21:05:02.105988",
     "exception": false,
     "start_time": "2023-11-20T21:05:02.093832",
     "status": "completed"
    },
    "tags": []
   },
   "source": [
    "# Model definition"
   ]
  },
  {
   "cell_type": "code",
   "execution_count": 13,
   "id": "68dc2a56",
   "metadata": {
    "execution": {
     "iopub.execute_input": "2023-11-20T21:05:02.132453Z",
     "iopub.status.busy": "2023-11-20T21:05:02.131796Z",
     "iopub.status.idle": "2023-11-20T21:05:02.444450Z",
     "shell.execute_reply": "2023-11-20T21:05:02.443166Z"
    },
    "papermill": {
     "duration": 0.329301,
     "end_time": "2023-11-20T21:05:02.447541",
     "exception": false,
     "start_time": "2023-11-20T21:05:02.118240",
     "status": "completed"
    },
    "tags": []
   },
   "outputs": [],
   "source": [
    "model = Sequential(\n",
    "    [\n",
    "        Conv2D(32,(5,5), padding='Same', activation='relu', input_shape = (28,28,1)),\n",
    "        Conv2D(32,(5,5), padding='Same', activation='relu'),\n",
    "        MaxPool2D(pool_size=(2,2)),\n",
    "        Dropout(0.15),\n",
    "        Conv2D(64,(3,3), padding='Same', activation='relu'),\n",
    "        Conv2D(64,(3,3), padding='Same', activation='relu'),\n",
    "        MaxPool2D(pool_size=(2,2), strides=(2,2)),\n",
    "        Dropout(0.15),\n",
    "        Flatten(),\n",
    "        Dense(256, activation='relu'),\n",
    "        Dropout(0.3),\n",
    "        Dense(10, activation='softmax')\n",
    "    ]\n",
    ")"
   ]
  },
  {
   "cell_type": "code",
   "execution_count": 14,
   "id": "a552e59d",
   "metadata": {
    "execution": {
     "iopub.execute_input": "2023-11-20T21:05:02.472148Z",
     "iopub.status.busy": "2023-11-20T21:05:02.471329Z",
     "iopub.status.idle": "2023-11-20T21:05:02.523514Z",
     "shell.execute_reply": "2023-11-20T21:05:02.521886Z"
    },
    "papermill": {
     "duration": 0.067173,
     "end_time": "2023-11-20T21:05:02.525781",
     "exception": false,
     "start_time": "2023-11-20T21:05:02.458608",
     "status": "completed"
    },
    "tags": []
   },
   "outputs": [
    {
     "name": "stdout",
     "output_type": "stream",
     "text": [
      "Model: \"sequential\"\n",
      "_________________________________________________________________\n",
      " Layer (type)                Output Shape              Param #   \n",
      "=================================================================\n",
      " conv2d (Conv2D)             (None, 28, 28, 32)        832       \n",
      "                                                                 \n",
      " conv2d_1 (Conv2D)           (None, 28, 28, 32)        25632     \n",
      "                                                                 \n",
      " max_pooling2d (MaxPooling2D  (None, 14, 14, 32)       0         \n",
      " )                                                               \n",
      "                                                                 \n",
      " dropout (Dropout)           (None, 14, 14, 32)        0         \n",
      "                                                                 \n",
      " conv2d_2 (Conv2D)           (None, 14, 14, 64)        18496     \n",
      "                                                                 \n",
      " conv2d_3 (Conv2D)           (None, 14, 14, 64)        36928     \n",
      "                                                                 \n",
      " max_pooling2d_1 (MaxPooling  (None, 7, 7, 64)         0         \n",
      " 2D)                                                             \n",
      "                                                                 \n",
      " dropout_1 (Dropout)         (None, 7, 7, 64)          0         \n",
      "                                                                 \n",
      " flatten (Flatten)           (None, 3136)              0         \n",
      "                                                                 \n",
      " dense (Dense)               (None, 256)               803072    \n",
      "                                                                 \n",
      " dropout_2 (Dropout)         (None, 256)               0         \n",
      "                                                                 \n",
      " dense_1 (Dense)             (None, 10)                2570      \n",
      "                                                                 \n",
      "=================================================================\n",
      "Total params: 887,530\n",
      "Trainable params: 887,530\n",
      "Non-trainable params: 0\n",
      "_________________________________________________________________\n"
     ]
    }
   ],
   "source": [
    "model.summary()"
   ]
  },
  {
   "cell_type": "code",
   "execution_count": 15,
   "id": "ce8f6e74",
   "metadata": {
    "execution": {
     "iopub.execute_input": "2023-11-20T21:05:02.558575Z",
     "iopub.status.busy": "2023-11-20T21:05:02.557576Z",
     "iopub.status.idle": "2023-11-20T21:05:02.582777Z",
     "shell.execute_reply": "2023-11-20T21:05:02.581385Z"
    },
    "papermill": {
     "duration": 0.045628,
     "end_time": "2023-11-20T21:05:02.585725",
     "exception": false,
     "start_time": "2023-11-20T21:05:02.540097",
     "status": "completed"
    },
    "tags": []
   },
   "outputs": [],
   "source": [
    "model.compile(\n",
    "    loss=CategoricalCrossentropy(),\n",
    "    optimizer=RMSprop(epsilon=1e-08, decay=0.0),\n",
    "    metrics=[\"accuracy\"],\n",
    ")"
   ]
  },
  {
   "cell_type": "code",
   "execution_count": 16,
   "id": "99c4ad77",
   "metadata": {
    "execution": {
     "iopub.execute_input": "2023-11-20T21:05:02.615792Z",
     "iopub.status.busy": "2023-11-20T21:05:02.615281Z",
     "iopub.status.idle": "2023-11-20T21:05:02.621782Z",
     "shell.execute_reply": "2023-11-20T21:05:02.620433Z"
    },
    "papermill": {
     "duration": 0.025005,
     "end_time": "2023-11-20T21:05:02.624482",
     "exception": false,
     "start_time": "2023-11-20T21:05:02.599477",
     "status": "completed"
    },
    "tags": []
   },
   "outputs": [],
   "source": [
    "learning_rate_reduction = ReduceLROnPlateau(monitor='val_acc', \n",
    "                                            patience=3, \n",
    "                                            verbose=1, \n",
    "                                            factor=0.5, \n",
    "                                            min_lr=0.00001)"
   ]
  },
  {
   "cell_type": "code",
   "execution_count": 17,
   "id": "96bb4876",
   "metadata": {
    "execution": {
     "iopub.execute_input": "2023-11-20T21:05:02.656089Z",
     "iopub.status.busy": "2023-11-20T21:05:02.655128Z",
     "iopub.status.idle": "2023-11-20T21:05:02.661166Z",
     "shell.execute_reply": "2023-11-20T21:05:02.659687Z"
    },
    "papermill": {
     "duration": 0.025129,
     "end_time": "2023-11-20T21:05:02.663968",
     "exception": false,
     "start_time": "2023-11-20T21:05:02.638839",
     "status": "completed"
    },
    "tags": []
   },
   "outputs": [],
   "source": [
    "epochs = 30\n",
    "batch_size = 86"
   ]
  },
  {
   "cell_type": "markdown",
   "id": "c9f78380",
   "metadata": {
    "papermill": {
     "duration": 0.014143,
     "end_time": "2023-11-20T21:05:02.692315",
     "exception": false,
     "start_time": "2023-11-20T21:05:02.678172",
     "status": "completed"
    },
    "tags": []
   },
   "source": [
    "# Data augmentation"
   ]
  },
  {
   "cell_type": "code",
   "execution_count": 18,
   "id": "2b45c4b1",
   "metadata": {
    "execution": {
     "iopub.execute_input": "2023-11-20T21:05:02.723259Z",
     "iopub.status.busy": "2023-11-20T21:05:02.722805Z",
     "iopub.status.idle": "2023-11-20T21:05:02.881086Z",
     "shell.execute_reply": "2023-11-20T21:05:02.879687Z"
    },
    "papermill": {
     "duration": 0.177363,
     "end_time": "2023-11-20T21:05:02.884101",
     "exception": false,
     "start_time": "2023-11-20T21:05:02.706738",
     "status": "completed"
    },
    "tags": []
   },
   "outputs": [],
   "source": [
    "data_gen = ImageDataGenerator(\n",
    "        featurewise_center=False,\n",
    "        samplewise_center=False,\n",
    "        featurewise_std_normalization=False,\n",
    "        samplewise_std_normalization=False,\n",
    "        zca_whitening=False,\n",
    "        rotation_range=10,\n",
    "        zoom_range = 0.1,\n",
    "        width_shift_range=0.1,\n",
    "        height_shift_range=0.1,\n",
    "        horizontal_flip=False,\n",
    "        vertical_flip=False)\n",
    "data_gen.fit(X_train)"
   ]
  },
  {
   "cell_type": "markdown",
   "id": "fcb43fc2",
   "metadata": {
    "papermill": {
     "duration": 0.013986,
     "end_time": "2023-11-20T21:05:02.911829",
     "exception": false,
     "start_time": "2023-11-20T21:05:02.897843",
     "status": "completed"
    },
    "tags": []
   },
   "source": [
    "# Let's fit the model"
   ]
  },
  {
   "cell_type": "code",
   "execution_count": 19,
   "id": "7c0cdb13",
   "metadata": {
    "execution": {
     "iopub.execute_input": "2023-11-20T21:05:02.941544Z",
     "iopub.status.busy": "2023-11-20T21:05:02.941076Z",
     "iopub.status.idle": "2023-11-20T22:38:48.884331Z",
     "shell.execute_reply": "2023-11-20T22:38:48.882658Z"
    },
    "papermill": {
     "duration": 5625.978204,
     "end_time": "2023-11-20T22:38:48.903947",
     "exception": false,
     "start_time": "2023-11-20T21:05:02.925743",
     "status": "completed"
    },
    "tags": []
   },
   "outputs": [
    {
     "name": "stdout",
     "output_type": "stream",
     "text": [
      "Epoch 1/30\n"
     ]
    },
    {
     "name": "stderr",
     "output_type": "stream",
     "text": [
      "/tmp/ipykernel_20/1861706986.py:1: UserWarning: `Model.fit_generator` is deprecated and will be removed in a future version. Please use `Model.fit`, which supports generators.\n",
      "  history = model.fit_generator(data_gen.flow(X_train,y_train, batch_size=batch_size),\n"
     ]
    },
    {
     "name": "stdout",
     "output_type": "stream",
     "text": [
      "439/439 - 178s - loss: 0.3741 - accuracy: 0.8809 - val_loss: 0.0635 - val_accuracy: 0.9802 - lr: 0.0010 - 178s/epoch - 406ms/step\n",
      "Epoch 2/30\n",
      "439/439 - 175s - loss: 0.1068 - accuracy: 0.9679 - val_loss: 0.0386 - val_accuracy: 0.9886 - lr: 0.0010 - 175s/epoch - 398ms/step\n",
      "Epoch 3/30\n",
      "439/439 - 176s - loss: 0.0768 - accuracy: 0.9772 - val_loss: 0.0526 - val_accuracy: 0.9843 - lr: 0.0010 - 176s/epoch - 402ms/step\n",
      "Epoch 4/30\n",
      "439/439 - 175s - loss: 0.0629 - accuracy: 0.9806 - val_loss: 0.0425 - val_accuracy: 0.9879 - lr: 0.0010 - 175s/epoch - 399ms/step\n",
      "Epoch 5/30\n",
      "439/439 - 175s - loss: 0.0562 - accuracy: 0.9836 - val_loss: 0.0266 - val_accuracy: 0.9929 - lr: 0.0010 - 175s/epoch - 400ms/step\n",
      "Epoch 6/30\n",
      "439/439 - 175s - loss: 0.0513 - accuracy: 0.9845 - val_loss: 0.0264 - val_accuracy: 0.9917 - lr: 0.0010 - 175s/epoch - 398ms/step\n",
      "Epoch 7/30\n",
      "439/439 - 175s - loss: 0.0490 - accuracy: 0.9859 - val_loss: 0.0274 - val_accuracy: 0.9924 - lr: 0.0010 - 175s/epoch - 399ms/step\n",
      "Epoch 8/30\n",
      "439/439 - 175s - loss: 0.0453 - accuracy: 0.9865 - val_loss: 0.0211 - val_accuracy: 0.9926 - lr: 0.0010 - 175s/epoch - 399ms/step\n",
      "Epoch 9/30\n",
      "439/439 - 176s - loss: 0.0436 - accuracy: 0.9873 - val_loss: 0.0283 - val_accuracy: 0.9910 - lr: 0.0010 - 176s/epoch - 401ms/step\n",
      "Epoch 10/30\n",
      "439/439 - 177s - loss: 0.0423 - accuracy: 0.9877 - val_loss: 0.0218 - val_accuracy: 0.9938 - lr: 0.0010 - 177s/epoch - 403ms/step\n",
      "Epoch 11/30\n",
      "439/439 - 176s - loss: 0.0425 - accuracy: 0.9881 - val_loss: 0.0281 - val_accuracy: 0.9926 - lr: 0.0010 - 176s/epoch - 400ms/step\n",
      "Epoch 12/30\n",
      "439/439 - 176s - loss: 0.0412 - accuracy: 0.9878 - val_loss: 0.0229 - val_accuracy: 0.9933 - lr: 0.0010 - 176s/epoch - 400ms/step\n",
      "Epoch 13/30\n",
      "439/439 - 174s - loss: 0.0397 - accuracy: 0.9884 - val_loss: 0.0233 - val_accuracy: 0.9950 - lr: 0.0010 - 174s/epoch - 397ms/step\n",
      "Epoch 14/30\n",
      "439/439 - 175s - loss: 0.0434 - accuracy: 0.9885 - val_loss: 0.0271 - val_accuracy: 0.9914 - lr: 0.0010 - 175s/epoch - 399ms/step\n",
      "Epoch 15/30\n",
      "439/439 - 175s - loss: 0.0422 - accuracy: 0.9882 - val_loss: 0.0188 - val_accuracy: 0.9950 - lr: 0.0010 - 175s/epoch - 399ms/step\n",
      "Epoch 16/30\n",
      "439/439 - 175s - loss: 0.0433 - accuracy: 0.9883 - val_loss: 0.0329 - val_accuracy: 0.9907 - lr: 0.0010 - 175s/epoch - 399ms/step\n",
      "Epoch 17/30\n",
      "439/439 - 175s - loss: 0.0443 - accuracy: 0.9880 - val_loss: 0.0209 - val_accuracy: 0.9948 - lr: 0.0010 - 175s/epoch - 400ms/step\n",
      "Epoch 18/30\n",
      "439/439 - 175s - loss: 0.0463 - accuracy: 0.9876 - val_loss: 0.0256 - val_accuracy: 0.9933 - lr: 0.0010 - 175s/epoch - 399ms/step\n",
      "Epoch 19/30\n",
      "439/439 - 175s - loss: 0.0433 - accuracy: 0.9880 - val_loss: 0.0213 - val_accuracy: 0.9945 - lr: 0.0010 - 175s/epoch - 398ms/step\n",
      "Epoch 20/30\n",
      "439/439 - 174s - loss: 0.0456 - accuracy: 0.9876 - val_loss: 0.0326 - val_accuracy: 0.9926 - lr: 0.0010 - 174s/epoch - 397ms/step\n",
      "Epoch 21/30\n",
      "439/439 - 174s - loss: 0.0440 - accuracy: 0.9880 - val_loss: 0.0180 - val_accuracy: 0.9950 - lr: 0.0010 - 174s/epoch - 396ms/step\n",
      "Epoch 22/30\n",
      "439/439 - 174s - loss: 0.0462 - accuracy: 0.9879 - val_loss: 0.0333 - val_accuracy: 0.9926 - lr: 0.0010 - 174s/epoch - 396ms/step\n",
      "Epoch 23/30\n",
      "439/439 - 175s - loss: 0.0478 - accuracy: 0.9875 - val_loss: 0.0306 - val_accuracy: 0.9912 - lr: 0.0010 - 175s/epoch - 398ms/step\n",
      "Epoch 24/30\n",
      "439/439 - 174s - loss: 0.0437 - accuracy: 0.9881 - val_loss: 0.0310 - val_accuracy: 0.9912 - lr: 0.0010 - 174s/epoch - 396ms/step\n",
      "Epoch 25/30\n",
      "439/439 - 174s - loss: 0.0535 - accuracy: 0.9867 - val_loss: 0.0286 - val_accuracy: 0.9917 - lr: 0.0010 - 174s/epoch - 396ms/step\n",
      "Epoch 26/30\n",
      "439/439 - 174s - loss: 0.0501 - accuracy: 0.9870 - val_loss: 0.0359 - val_accuracy: 0.9926 - lr: 0.0010 - 174s/epoch - 397ms/step\n",
      "Epoch 27/30\n",
      "439/439 - 174s - loss: 0.0496 - accuracy: 0.9871 - val_loss: 0.0450 - val_accuracy: 0.9902 - lr: 0.0010 - 174s/epoch - 396ms/step\n",
      "Epoch 28/30\n",
      "439/439 - 175s - loss: 0.0521 - accuracy: 0.9868 - val_loss: 0.0206 - val_accuracy: 0.9931 - lr: 0.0010 - 175s/epoch - 398ms/step\n",
      "Epoch 29/30\n",
      "439/439 - 175s - loss: 0.0527 - accuracy: 0.9865 - val_loss: 0.0270 - val_accuracy: 0.9931 - lr: 0.0010 - 175s/epoch - 398ms/step\n",
      "Epoch 30/30\n",
      "439/439 - 175s - loss: 0.0552 - accuracy: 0.9862 - val_loss: 0.0273 - val_accuracy: 0.9940 - lr: 0.0010 - 175s/epoch - 398ms/step\n"
     ]
    }
   ],
   "source": [
    "history = model.fit_generator(data_gen.flow(X_train,y_train, batch_size=batch_size),\n",
    "                              epochs = epochs, validation_data = (X_val,y_val),\n",
    "                              verbose = 2, steps_per_epoch=X_train.shape[0] // batch_size,\n",
    "                              callbacks=[learning_rate_reduction])"
   ]
  },
  {
   "cell_type": "code",
   "execution_count": 20,
   "id": "14087f30",
   "metadata": {
    "execution": {
     "iopub.execute_input": "2023-11-20T22:38:48.950996Z",
     "iopub.status.busy": "2023-11-20T22:38:48.950488Z",
     "iopub.status.idle": "2023-11-20T22:39:17.184281Z",
     "shell.execute_reply": "2023-11-20T22:39:17.182578Z"
    },
    "papermill": {
     "duration": 28.260036,
     "end_time": "2023-11-20T22:39:17.187884",
     "exception": false,
     "start_time": "2023-11-20T22:38:48.927848",
     "status": "completed"
    },
    "tags": []
   },
   "outputs": [
    {
     "name": "stdout",
     "output_type": "stream",
     "text": [
      "875/875 [==============================] - 27s 31ms/step\n"
     ]
    }
   ],
   "source": [
    "predictions = np.argmax(model.predict(X_test), axis=1)\n",
    "submission = pd.DataFrame({'ImageId': range(1,len(X_test)+1) ,'Label': predictions })\n",
    "submission.to_csv(\"simple_tf_result.csv\",index=False)"
   ]
  },
  {
   "cell_type": "code",
   "execution_count": null,
   "id": "a0425683",
   "metadata": {
    "papermill": {
     "duration": 0.058948,
     "end_time": "2023-11-20T22:39:17.307250",
     "exception": false,
     "start_time": "2023-11-20T22:39:17.248302",
     "status": "completed"
    },
    "tags": []
   },
   "outputs": [],
   "source": []
  }
 ],
 "metadata": {
  "kaggle": {
   "accelerator": "none",
   "dataSources": [
    {
     "databundleVersionId": 861823,
     "sourceId": 3004,
     "sourceType": "competition"
    }
   ],
   "dockerImageVersionId": 30527,
   "isGpuEnabled": false,
   "isInternetEnabled": true,
   "language": "python",
   "sourceType": "notebook"
  },
  "kernelspec": {
   "display_name": "Python 3",
   "language": "python",
   "name": "python3"
  },
  "language_info": {
   "codemirror_mode": {
    "name": "ipython",
    "version": 3
   },
   "file_extension": ".py",
   "mimetype": "text/x-python",
   "name": "python",
   "nbconvert_exporter": "python",
   "pygments_lexer": "ipython3",
   "version": "3.10.12"
  },
  "papermill": {
   "default_parameters": {},
   "duration": 5695.990431,
   "end_time": "2023-11-20T22:39:20.579651",
   "environment_variables": {},
   "exception": null,
   "input_path": "__notebook__.ipynb",
   "output_path": "__notebook__.ipynb",
   "parameters": {},
   "start_time": "2023-11-20T21:04:24.589220",
   "version": "2.4.0"
  }
 },
 "nbformat": 4,
 "nbformat_minor": 5
}
